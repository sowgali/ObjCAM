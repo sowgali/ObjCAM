{
 "cells": [
  {
   "cell_type": "markdown",
   "metadata": {},
   "source": [
    "## Import the required libraries"
   ]
  },
  {
   "cell_type": "code",
   "execution_count": 16,
   "metadata": {},
   "outputs": [],
   "source": [
    "import numpy as np \n",
    "import pandas as pd \n",
    "import matplotlib.pyplot as plt\n",
    "import tensorflow as tf\n",
    "from tensorflow import keras\n",
    "import tensorflow_datasets as tfds\n",
    "import cv2\n",
    "from PIL import Image\n",
    "import os \n",
    "import time"
   ]
  },
  {
   "cell_type": "markdown",
   "metadata": {},
   "source": [
    "## Load and Process the data"
   ]
  },
  {
   "cell_type": "code",
   "execution_count": 17,
   "metadata": {
    "scrolled": true
   },
   "outputs": [
    {
     "name": "stdout",
     "output_type": "stream",
     "text": [
      "Loading Class 0..../TrafficSigns_dataset/train/0/\n",
      "Loading Class 1..../TrafficSigns_dataset/train/1/\n",
      "Loading Class 2..../TrafficSigns_dataset/train/2/\n",
      "Loading Class 3..../TrafficSigns_dataset/train/3/\n",
      "Loading Class 4..../TrafficSigns_dataset/train/4/\n",
      "Loading Class 5..../TrafficSigns_dataset/train/5/\n",
      "Loading Class 6..../TrafficSigns_dataset/train/6/\n",
      "Loading Class 7..../TrafficSigns_dataset/train/7/\n",
      "Loading Class 8..../TrafficSigns_dataset/train/8/\n",
      "Loading Class 9..../TrafficSigns_dataset/train/9/\n",
      "Loading Class 10..../TrafficSigns_dataset/train/10/\n",
      "Loading Class 11..../TrafficSigns_dataset/train/11/\n",
      "Loading Class 12..../TrafficSigns_dataset/train/12/\n",
      "Loading Class 13..../TrafficSigns_dataset/train/13/\n",
      "Loading Class 14..../TrafficSigns_dataset/train/14/\n",
      "Loading Class 15..../TrafficSigns_dataset/train/15/\n",
      "Loading Class 16..../TrafficSigns_dataset/train/16/\n",
      "Loading Class 17..../TrafficSigns_dataset/train/17/\n",
      "Loading Class 18..../TrafficSigns_dataset/train/18/\n",
      "Loading Class 19..../TrafficSigns_dataset/train/19/\n",
      "Loading Class 20..../TrafficSigns_dataset/train/20/\n",
      "Loading Class 21..../TrafficSigns_dataset/train/21/\n",
      "Loading Class 22..../TrafficSigns_dataset/train/22/\n",
      "Loading Class 23..../TrafficSigns_dataset/train/23/\n",
      "Loading Class 24..../TrafficSigns_dataset/train/24/\n",
      "Loading Class 25..../TrafficSigns_dataset/train/25/\n",
      "Loading Class 26..../TrafficSigns_dataset/train/26/\n",
      "Loading Class 27..../TrafficSigns_dataset/train/27/\n",
      "Loading Class 28..../TrafficSigns_dataset/train/28/\n",
      "Loading Class 29..../TrafficSigns_dataset/train/29/\n",
      "Loading Class 30..../TrafficSigns_dataset/train/30/\n",
      "Loading Class 31..../TrafficSigns_dataset/train/31/\n",
      "Loading Class 32..../TrafficSigns_dataset/train/32/\n",
      "Loading Class 33..../TrafficSigns_dataset/train/33/\n",
      "Loading Class 34..../TrafficSigns_dataset/train/34/\n",
      "Loading Class 35..../TrafficSigns_dataset/train/35/\n",
      "Loading Class 36..../TrafficSigns_dataset/train/36/\n",
      "Loading Class 37..../TrafficSigns_dataset/train/37/\n",
      "Loading Class 38..../TrafficSigns_dataset/train/38/\n",
      "Loading Class 39..../TrafficSigns_dataset/train/39/\n",
      "Loading Class 40..../TrafficSigns_dataset/train/40/\n",
      "Loading Class 41..../TrafficSigns_dataset/train/41/\n",
      "Loading Class 42..../TrafficSigns_dataset/train/42/\n"
     ]
    }
   ],
   "source": [
    "# Reading the input images and putting them into a numpy array\n",
    "data=[]\n",
    "labels=[]\n",
    "\n",
    "height = 150\n",
    "width = 150\n",
    "channels = 3\n",
    "classes = 43\n",
    "n_inputs = height * width * channels\n",
    "\n",
    "for i in range(0, classes, 1):\n",
    "    path = \"./TrafficSigns_dataset/train/{0}/\".format(i)\n",
    "    print(\"Loading Class {}...\".format(i)+path)\n",
    "    Class=os.listdir(path)\n",
    "    for a in Class:\n",
    "        try:\n",
    "            image=cv2.imread(path+a)\n",
    "            size_image = cv2.resize(image, (height, width))\n",
    "            data.append(np.array(size_image))\n",
    "            labels.append(i)\n",
    "        except AttributeError:\n",
    "            print(\"Attribut Error\")\n",
    "            \n",
    "Cells=np.array(data)\n",
    "labels=np.array(labels)"
   ]
  },
  {
   "cell_type": "code",
   "execution_count": 18,
   "metadata": {},
   "outputs": [],
   "source": [
    "#Randomize the order of the input images\n",
    "s=np.arange(Cells.shape[0])\n",
    "np.random.seed(classes)\n",
    "np.random.shuffle(s)\n",
    "Cells=Cells[s]\n",
    "labels=labels[s]"
   ]
  },
  {
   "cell_type": "code",
   "execution_count": 19,
   "metadata": {},
   "outputs": [],
   "source": [
    "#Spliting the images into train and validation sets\n",
    "(X_train,X_val)=Cells[(int)(0.2*len(labels)):],Cells[:(int)(0.2*len(labels))]\n",
    "X_train = X_train.astype('float32')/255 \n",
    "X_val = X_val.astype('float32')/255\n",
    "(y_train,y_val)=labels[(int)(0.2*len(labels)):],labels[:(int)(0.2*len(labels))]"
   ]
  },
  {
   "cell_type": "code",
   "execution_count": 20,
   "metadata": {},
   "outputs": [
    {
     "name": "stdout",
     "output_type": "stream",
     "text": [
      "(31368, 15, 15, 3)\n"
     ]
    }
   ],
   "source": [
    "#Using one hote encoding for the train and validation labels\n",
    "y_train = tf.keras.utils.to_categorical(y_train, classes)\n",
    "y_val = tf.keras.utils.to_categorical(y_val, classes)\n",
    "\n",
    "print(X_train.shape)"
   ]
  },
  {
   "cell_type": "markdown",
   "metadata": {},
   "source": [
    "## Build and Compile the model"
   ]
  },
  {
   "cell_type": "code",
   "execution_count": 21,
   "metadata": {},
   "outputs": [
    {
     "name": "stdout",
     "output_type": "stream",
     "text": [
      "Model: \"sequential_1\"\n",
      "_________________________________________________________________\n",
      "Layer (type)                 Output Shape              Param #   \n",
      "=================================================================\n",
      "conv2d_2 (Conv2D)            (None, 11, 11, 16)        1216      \n",
      "_________________________________________________________________\n",
      "conv2d_3 (Conv2D)            (None, 9, 9, 32)          4640      \n",
      "_________________________________________________________________\n",
      "max_pooling2d_1 (MaxPooling2 (None, 4, 4, 32)          0         \n",
      "_________________________________________________________________\n",
      "dropout_2 (Dropout)          (None, 4, 4, 32)          0         \n",
      "_________________________________________________________________\n",
      "flatten_1 (Flatten)          (None, 512)               0         \n",
      "_________________________________________________________________\n",
      "dense_2 (Dense)              (None, 256)               131328    \n",
      "_________________________________________________________________\n",
      "dropout_3 (Dropout)          (None, 256)               0         \n",
      "_________________________________________________________________\n",
      "dense_3 (Dense)              (None, 43)                11051     \n",
      "=================================================================\n",
      "Total params: 148,235\n",
      "Trainable params: 148,235\n",
      "Non-trainable params: 0\n",
      "_________________________________________________________________\n"
     ]
    }
   ],
   "source": [
    "#Build the model\n",
    "model = tf.keras.models.Sequential()\n",
    "model.add(keras.layers.Conv2D(filters=16, kernel_size=(5,5), activation='relu', input_shape=X_train.shape[1:]))\n",
    "model.add(keras.layers.Conv2D(filters=32, kernel_size=(3, 3), activation='relu'))\n",
    "model.add(keras.layers.MaxPool2D(pool_size=(2, 2)))\n",
    "model.add(keras.layers.Dropout(rate=0.25))\n",
    "model.add(keras.layers.Flatten())\n",
    "model.add(keras.layers.Dense(256, activation='relu'))\n",
    "model.add(keras.layers.Dropout(rate=0.5))\n",
    "model.add(keras.layers.Dense(classes, activation='softmax'))\n",
    "model.summary()"
   ]
  },
  {
   "cell_type": "code",
   "execution_count": 22,
   "metadata": {},
   "outputs": [],
   "source": [
    "#Compilation of the model\n",
    "model.compile(\n",
    "    loss='categorical_crossentropy', \n",
    "    optimizer='adam', \n",
    "    metrics=['accuracy']\n",
    ")"
   ]
  },
  {
   "cell_type": "markdown",
   "metadata": {},
   "source": [
    "## Train the model"
   ]
  },
  {
   "cell_type": "code",
   "execution_count": 23,
   "metadata": {},
   "outputs": [
    {
     "name": "stdout",
     "output_type": "stream",
     "text": [
      "Epoch 1/10\n",
      "981/981 [==============================] - 2s 2ms/step - loss: 1.5779 - accuracy: 0.5582 - val_loss: 0.5654 - val_accuracy: 0.8436\n",
      "Epoch 2/10\n",
      "981/981 [==============================] - 2s 2ms/step - loss: 0.6019 - accuracy: 0.8132 - val_loss: 0.2938 - val_accuracy: 0.9181\n",
      "Epoch 3/10\n",
      "981/981 [==============================] - 2s 2ms/step - loss: 0.4127 - accuracy: 0.8721 - val_loss: 0.2096 - val_accuracy: 0.9453\n",
      "Epoch 4/10\n",
      "981/981 [==============================] - 2s 2ms/step - loss: 0.3295 - accuracy: 0.8967 - val_loss: 0.1758 - val_accuracy: 0.9540\n",
      "Epoch 5/10\n",
      "981/981 [==============================] - 2s 2ms/step - loss: 0.2698 - accuracy: 0.9135 - val_loss: 0.1420 - val_accuracy: 0.9617\n",
      "Epoch 6/10\n",
      "981/981 [==============================] - 2s 2ms/step - loss: 0.2348 - accuracy: 0.9245 - val_loss: 0.1262 - val_accuracy: 0.9651\n",
      "Epoch 7/10\n",
      "981/981 [==============================] - 2s 2ms/step - loss: 0.2106 - accuracy: 0.9327 - val_loss: 0.1127 - val_accuracy: 0.9674\n",
      "Epoch 8/10\n",
      "981/981 [==============================] - 2s 2ms/step - loss: 0.1838 - accuracy: 0.9400 - val_loss: 0.1130 - val_accuracy: 0.9694\n",
      "Epoch 9/10\n",
      "981/981 [==============================] - 2s 2ms/step - loss: 0.1668 - accuracy: 0.9457 - val_loss: 0.0916 - val_accuracy: 0.9760\n",
      "Epoch 10/10\n",
      "981/981 [==============================] - 2s 2ms/step - loss: 0.1580 - accuracy: 0.9486 - val_loss: 0.0887 - val_accuracy: 0.9759\n"
     ]
    }
   ],
   "source": [
    "#using ten epochs for the training and saving the accuracy for each epoch\n",
    "epochs = 10\n",
    "history = model.fit(X_train, y_train, batch_size=32, epochs=epochs,\n",
    "validation_data=(X_val, y_val))"
   ]
  },
  {
   "cell_type": "markdown",
   "metadata": {},
   "source": [
    "## Evaluate the model on test data"
   ]
  },
  {
   "cell_type": "code",
   "execution_count": 24,
   "metadata": {},
   "outputs": [
    {
     "name": "stdout",
     "output_type": "stream",
     "text": [
      "[16  1 38 ...  6  7 10]\n"
     ]
    }
   ],
   "source": [
    "#Load test data\n",
    "y_test=pd.read_csv(\"./TrafficSigns_dataset/Test.csv\")\n",
    "labels=y_test['Path'].values\n",
    "y_test=y_test['ClassId'].values\n",
    "\n",
    "print (y_test)\n",
    "\n",
    "data=[]\n",
    "\n",
    "for f in labels:\n",
    "    image=cv2.imread('./TrafficSigns_dataset/test/'+f.replace('Test/', ''))\n",
    "    image_from_array = Image.fromarray(image, 'RGB')\n",
    "    size_image = image_from_array.resize((height, width))\n",
    "    data.append(np.array(size_image))\n",
    "\n",
    "X_test=np.array(data)\n",
    "X_test = X_test.astype('float32')/255 "
   ]
  },
  {
   "cell_type": "code",
   "execution_count": 25,
   "metadata": {},
   "outputs": [],
   "source": [
    "#Predict output for test examples\n",
    "pred = model.predict_classes(X_test)"
   ]
  },
  {
   "cell_type": "code",
   "execution_count": 26,
   "metadata": {},
   "outputs": [
    {
     "name": "stdout",
     "output_type": "stream",
     "text": [
      "Test accuracy: 0.8975455265241489\n"
     ]
    }
   ],
   "source": [
    "#Calculate accuracy\n",
    "correct = 0\n",
    "incorrect = 0\n",
    "if(len(pred) == len(y_test)):\n",
    "    for i in range(0, len(pred)):\n",
    "        if (pred[i] == y_test[i]):\n",
    "            correct+=1\n",
    "        else:\n",
    "           incorrect+=1\n",
    "\n",
    "test_acc = correct/(correct+incorrect)\n",
    "print('Test accuracy:', test_acc)"
   ]
  },
  {
   "cell_type": "markdown",
   "metadata": {},
   "source": [
    "## Save the model"
   ]
  },
  {
   "cell_type": "code",
   "execution_count": 27,
   "metadata": {},
   "outputs": [],
   "source": [
    "model.save(\"BlackBox_CNN.h5\")"
   ]
  },
  {
   "cell_type": "code",
   "execution_count": null,
   "metadata": {},
   "outputs": [],
   "source": []
  }
 ],
 "metadata": {
  "kernelspec": {
   "display_name": "Python 3",
   "language": "python",
   "name": "python3"
  },
  "language_info": {
   "codemirror_mode": {
    "name": "ipython",
    "version": 3
   },
   "file_extension": ".py",
   "mimetype": "text/x-python",
   "name": "python",
   "nbconvert_exporter": "python",
   "pygments_lexer": "ipython3",
   "version": "3.6.9"
  }
 },
 "nbformat": 4,
 "nbformat_minor": 4
}
