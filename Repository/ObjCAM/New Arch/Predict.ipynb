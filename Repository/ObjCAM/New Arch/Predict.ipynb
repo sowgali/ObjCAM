{
 "cells": [
  {
   "cell_type": "code",
   "execution_count": 1,
   "metadata": {},
   "outputs": [],
   "source": [
    "import tensorflow as tf\n",
    "from tensorflow import keras\n",
    "import numpy as np\n",
    "import os"
   ]
  },
  {
   "cell_type": "code",
   "execution_count": 2,
   "metadata": {},
   "outputs": [
    {
     "name": "stdout",
     "output_type": "stream",
     "text": [
      "Model: \"functional_1\"\n",
      "_________________________________________________________________\n",
      "Layer (type)                 Output Shape              Param #   \n",
      "=================================================================\n",
      "input_2 (InputLayer)         [(None, 160, 160, 3)]     0         \n",
      "_________________________________________________________________\n",
      "sequential_4 (Sequential)    (None, 160, 160, 3)       0         \n",
      "_________________________________________________________________\n",
      "tf_op_layer_strided_slice (T (None, 160, 160, 3)       0         \n",
      "_________________________________________________________________\n",
      "tf_op_layer_BiasAdd (TensorF (None, 160, 160, 3)       0         \n",
      "_________________________________________________________________\n",
      "vgg16 (Functional)           (None, 5, 5, 512)         14714688  \n",
      "_________________________________________________________________\n",
      "dropout (Dropout)            (None, 5, 5, 512)         0         \n",
      "_________________________________________________________________\n",
      "flatten (Flatten)            (None, 12800)             0         \n",
      "_________________________________________________________________\n",
      "dense (Dense)                (None, 4096)              52432896  \n",
      "_________________________________________________________________\n",
      "dense_1 (Dense)              (None, 4096)              16781312  \n",
      "_________________________________________________________________\n",
      "dropout_1 (Dropout)          (None, 4096)              0         \n",
      "_________________________________________________________________\n",
      "dense_2 (Dense)              (None, 43)                176171    \n",
      "=================================================================\n",
      "Total params: 84,105,067\n",
      "Trainable params: 84,105,067\n",
      "Non-trainable params: 0\n",
      "_________________________________________________________________\n"
     ]
    }
   ],
   "source": [
    "model = keras.models.load_model('my_model4.h5')\n",
    "base_learning_rate = 0.0001\n",
    "model.compile(optimizer=tf.keras.optimizers.Adam(lr=base_learning_rate),\n",
    "              loss=tf.keras.losses.SparseCategoricalCrossentropy(from_logits = True),\n",
    "              metrics=['accuracy'])\n",
    "model.summary()"
   ]
  },
  {
   "cell_type": "code",
   "execution_count": 5,
   "metadata": {},
   "outputs": [
    {
     "name": "stdout",
     "output_type": "stream",
     "text": [
      "7\n",
      "tf.Tensor(25.149954, shape=(), dtype=float32)\n"
     ]
    }
   ],
   "source": [
    "img = keras.preprocessing.image.load_img(\n",
    "    \"9-11897.png\", target_size=(160, 160)\n",
    ")\n",
    "img_array = keras.preprocessing.image.img_to_array(img)\n",
    "img_array = tf.expand_dims(img_array, 0) # Create a batch\n",
    "\n",
    "predictions = model.predict(img_array)\n",
    "score = tf.nn.softmax(predictions[0])\n",
    "print(np.argmax(score))\n",
    "print(100*score[np.argmax(score)])"
   ]
  },
  {
   "cell_type": "code",
   "execution_count": 15,
   "metadata": {},
   "outputs": [
    {
     "name": "stdout",
     "output_type": "stream",
     "text": [
      "00015.png\n"
     ]
    }
   ],
   "source": [
    "for name in os.listdir('9'):\n",
    "    print(name)\n",
    "    break"
   ]
  },
  {
   "cell_type": "code",
   "execution_count": 11,
   "metadata": {},
   "outputs": [
    {
     "name": "stdout",
     "output_type": "stream",
     "text": [
      "0\n",
      "tf.Tensor(99.941345, shape=(), dtype=float32)\n",
      "00243.png\n",
      "1\n",
      "tf.Tensor(80.66024, shape=(), dtype=float32)\n",
      "00001.png\n",
      "22\n",
      "tf.Tensor(27.899796, shape=(), dtype=float32)\n",
      "00339.png\n",
      "32\n",
      "tf.Tensor(75.405075, shape=(), dtype=float32)\n",
      "03938.png\n",
      "33\n",
      "tf.Tensor(52.909874, shape=(), dtype=float32)\n",
      "08747.png\n",
      "35\n",
      "tf.Tensor(57.83494, shape=(), dtype=float32)\n",
      "02432.png\n",
      "7\n",
      "tf.Tensor(55.769928, shape=(), dtype=float32)\n",
      "00308.png\n"
     ]
    }
   ],
   "source": [
    "direct = 'archive/mytest'\n",
    "for folder in os.listdir(direct):\n",
    "    for name in os.listdir(direct+'/'+folder):\n",
    "        img = keras.preprocessing.image.load_img(direct+'/'+folder + '/'+str(name), target_size=(160, 160))\n",
    "        img_array = keras.preprocessing.image.img_to_array(img)\n",
    "        img_array = tf.expand_dims(img_array, 0) # Create a batch\n",
    "\n",
    "        predictions = model.predict(img_array)\n",
    "        score = tf.nn.softmax(predictions[0])\n",
    "        if np.argmax(score) == int(folder):\n",
    "            print(np.argmax(score))\n",
    "            print(100*score[np.argmax(score)])\n",
    "            print(name)\n",
    "            break"
   ]
  },
  {
   "cell_type": "code",
   "execution_count": 3,
   "metadata": {},
   "outputs": [
    {
     "name": "stdout",
     "output_type": "stream",
     "text": [
      "Original: 0\n",
      "Predicted: 0\n",
      "Confidence: tf.Tensor(100.0, shape=(), dtype=float32)\n",
      "Original: 10\n",
      "Predicted: 10\n",
      "Confidence: tf.Tensor(100.0, shape=(), dtype=float32)\n",
      "Original: 11\n",
      "Predicted: 11\n",
      "Confidence: tf.Tensor(100.0, shape=(), dtype=float32)\n",
      "Original: 12\n",
      "Predicted: 12\n",
      "Confidence: tf.Tensor(100.0, shape=(), dtype=float32)\n",
      "Original: 13\n",
      "Predicted: 13\n",
      "Confidence: tf.Tensor(100.0, shape=(), dtype=float32)\n",
      "Original: 14\n",
      "Predicted: 14\n",
      "Confidence: tf.Tensor(100.0, shape=(), dtype=float32)\n",
      "Original: 15\n",
      "Predicted: 15\n",
      "Confidence: tf.Tensor(100.0, shape=(), dtype=float32)\n",
      "Original: 16\n",
      "Predicted: 15\n",
      "Confidence: tf.Tensor(21.135382, shape=(), dtype=float32)\n",
      "Original: 17\n",
      "Predicted: 17\n",
      "Confidence: tf.Tensor(100.0, shape=(), dtype=float32)\n",
      "Original: 18\n",
      "Predicted: 18\n",
      "Confidence: tf.Tensor(100.0, shape=(), dtype=float32)\n",
      "Original: 19\n",
      "Predicted: 19\n",
      "Confidence: tf.Tensor(100.0, shape=(), dtype=float32)\n",
      "Original: 21\n",
      "Predicted: 21\n",
      "Confidence: tf.Tensor(100.0, shape=(), dtype=float32)\n",
      "Original: 22\n",
      "Predicted: 22\n",
      "Confidence: tf.Tensor(100.0, shape=(), dtype=float32)\n",
      "Original: 23\n",
      "Predicted: 23\n",
      "Confidence: tf.Tensor(100.0, shape=(), dtype=float32)\n",
      "Original: 32\n",
      "Predicted: 32\n",
      "Confidence: tf.Tensor(99.999855, shape=(), dtype=float32)\n",
      "Original: 33\n",
      "Predicted: 33\n",
      "Confidence: tf.Tensor(100.0, shape=(), dtype=float32)\n",
      "Original: 40\n",
      "Predicted: 40\n",
      "Confidence: tf.Tensor(100.0, shape=(), dtype=float32)\n",
      "Original: 41\n",
      "Predicted: 41\n",
      "Confidence: tf.Tensor(91.387405, shape=(), dtype=float32)\n",
      "Original: 42\n",
      "Predicted: 42\n",
      "Confidence: tf.Tensor(46.35177, shape=(), dtype=float32)\n",
      "Original: 6\n",
      "Predicted: 6\n",
      "Confidence: tf.Tensor(100.0, shape=(), dtype=float32)\n",
      "Original: 9\n",
      "Predicted: 9\n",
      "Confidence: tf.Tensor(100.0, shape=(), dtype=float32)\n"
     ]
    }
   ],
   "source": [
    "class_names = ['0', '1', '10', '11', '12', '13', '14', '15', '16', '17', '18', '19', '2', '20', '21', '22', '23', '24', '25', '26', '27', '28', '29', '3', '30', '31', '32', '33', '34', '35', '36', '37', '38', '39', '4', '40', '41', '42', '5', '6', '7', '8', '9']\n",
    "directory = \"test images/\"\n",
    "for name in os.listdir(directory):\n",
    "    org,_ = name.split('_')\n",
    "    img = keras.preprocessing.image.load_img(directory + name, target_size=(160, 160))\n",
    "    img_array = keras.preprocessing.image.img_to_array(img)\n",
    "    img_array = tf.expand_dims(img_array, 0)\n",
    "    predictions = model.predict(img_array)\n",
    "    score = tf.nn.softmax(predictions[0])\n",
    "    print(\"Original: \" + org)\n",
    "    print(\"Predicted: \" + class_names[np.argmax(score)])\n",
    "    print(\"Confidence: \" + str(100*score[np.argmax(score)]))"
   ]
  }
 ],
 "metadata": {
  "kernelspec": {
   "display_name": "Python 3",
   "language": "python",
   "name": "python3"
  },
  "language_info": {
   "codemirror_mode": {
    "name": "ipython",
    "version": 3
   },
   "file_extension": ".py",
   "mimetype": "text/x-python",
   "name": "python",
   "nbconvert_exporter": "python",
   "pygments_lexer": "ipython3",
   "version": "3.6.9"
  }
 },
 "nbformat": 4,
 "nbformat_minor": 4
}
